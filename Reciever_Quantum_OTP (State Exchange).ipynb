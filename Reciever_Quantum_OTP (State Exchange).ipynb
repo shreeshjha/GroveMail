{
 "cells": [
  {
   "cell_type": "markdown",
   "metadata": {},
   "source": [
    "<h1>Quantum Mail & State Exchange - &nbsp; GroveMail State Exchange Service</h1>\n",
    "<h3 style=\"text-align: left;\">Here<em> Reciever's</em> side of the state communication protocol.</h3>\n",
    "<h4><span style=\"color: #ff0000;\">It has to be executed first.</span></h4>\n",
    "<p style=\"text-align: left;\">This Quantum Mail can send quantum states from Sender to Reciever encrypted in qubits. The code simulate what message Reciever would recieve if they does not know the key. The required functions are implemented in the library Protocols.</p>"
   ]
  },
  {
   "cell_type": "code",
   "execution_count": 1,
   "metadata": {},
   "outputs": [],
   "source": [
    "import Protocols"
   ]
  },
  {
   "cell_type": "code",
   "execution_count": 2,
   "metadata": {},
   "outputs": [],
   "source": [
    "Sender_ADDR = 'localhost'\n",
    "Reciever_ADDR = 'localhost'\n",
    "Sender_PORT = 5005\n",
    "Reciever_PORT = 5006"
   ]
  },
  {
   "cell_type": "code",
   "execution_count": 3,
   "metadata": {},
   "outputs": [],
   "source": [
    "def main():\n",
    "\n",
    "  Protocols.receive_a_qmail(Sender_PORT, Reciever_ADDR, Sender_PORT, adversary=False)\n",
    "\n",
    "  pass"
   ]
  },
  {
   "cell_type": "code",
   "execution_count": null,
   "metadata": {},
   "outputs": [
    {
     "name": "stdout",
     "output_type": "stream",
     "text": [
      "Running on port = 5016\n"
     ]
    }
   ],
   "source": [
    "if __name__ == \"__main__\":\n",
    "  main()"
   ]
  },
  {
   "cell_type": "code",
   "execution_count": null,
   "metadata": {},
   "outputs": [],
   "source": []
  }
 ],
 "metadata": {
  "kernelspec": {
   "display_name": "Python 3 (ipykernel)",
   "language": "python",
   "name": "python3"
  },
  "language_info": {
   "codemirror_mode": {
    "name": "ipython",
    "version": 3
   },
   "file_extension": ".py",
   "mimetype": "text/x-python",
   "name": "python",
   "nbconvert_exporter": "python",
   "pygments_lexer": "ipython3",
   "version": "3.9.7"
  }
 },
 "nbformat": 4,
 "nbformat_minor": 2
}
